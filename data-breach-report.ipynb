{
 "cells": [
  {
   "cell_type": "markdown",
   "metadata": {
    "pycharm": {
     "name": "#%% md\n"
    }
   },
   "source": [
    "# Metadata to standardize datasets in memory"
   ]
  },
  {
   "cell_type": "code",
   "execution_count": 167,
   "outputs": [],
   "source": [
    "datasets = {\n",
    "    'ushhs': 'breach_report.csv',\n",
    "    'iib': 'visualisation-data.csv' # Information is beautiful\n",
    "}\n",
    "\n",
    "# Standardize Column Names. Create a dictionary for each data set with original name and standardized column name\n",
    "\n",
    "standardized_names = {\n",
    "    'iib': {\n",
    "        'Entity': 'entity',\n",
    "        'records lost': 'records',\n",
    "        'YEAR': 'year',\n",
    "        'SECTOR': 'sector',\n",
    "        'METHOD': 'method'\n",
    "    },\n",
    "    'ushhs': {\n",
    "        'Name of Covered Entity': 'entity',\n",
    "        'Individuals Affected': 'records',\n",
    "        'Breach Submission Date': 'year',\n",
    "        'Covered Entity Type': 'sector',\n",
    "        'Type of Breach': 'method'\n",
    "    }\n",
    "}"
   ],
   "metadata": {
    "collapsed": false,
    "pycharm": {
     "name": "#%%\n",
     "is_executing": false
    }
   }
  },
  {
   "cell_type": "markdown",
   "source": [
    "# Load the datasets"
   ],
   "metadata": {
    "collapsed": false
   }
  },
  {
   "cell_type": "code",
   "execution_count": 168,
   "metadata": {
    "pycharm": {
     "is_executing": false
    }
   },
   "outputs": [],
   "source": [
    "import csv\n",
    "import os\n",
    "\n",
    "data = {}\n",
    "\n",
    "#load data from CSV files\n",
    "for key in datasets:\n",
    "    with (open(os.path.join('data', datasets[key]))) as csvfile:\n",
    "        reader = csv.DictReader(csvfile, escapechar='\\\\')\n",
    "        data[key] = [r for r in reader]"
   ]
  },
  {
   "cell_type": "code",
   "execution_count": 169,
   "metadata": {
    "pycharm": {
     "is_executing": false
    }
   },
   "outputs": [
    {
     "name": "stdout",
     "text": [
      "{'entity': 'Healthcare Administrative Partners', 'records': '17693', 'year': '12/03/2019', 'sector': 'Business Associate', 'method': 'Hacking/IT Incident'}\n",
      "{'entity': 'AOL', 'records': '92,000,000', 'year': '2004', 'sector': 'web', 'method': 'inside job'}\n"
     ],
     "output_type": "stream"
    }
   ],
   "source": [
    "# standardize column names\n",
    "\n",
    "std_cols = {}\n",
    "\n",
    "for key in data:\n",
    "    std_names = standardized_names[key]\n",
    "    std_rows = []\n",
    "    raw_data = data[key]\n",
    "    for row in raw_data:\n",
    "        std_row = {}\n",
    "        for name in std_names:\n",
    "            std_row[std_names[name]] = row[name]\n",
    "            \n",
    "        std_rows.append(std_row)\n",
    "    std_cols[key] = std_rows\n",
    "    print(std_rows[0])\n",
    "    \n"
   ]
  },
  {
   "cell_type": "code",
   "execution_count": 170,
   "metadata": {
    "pycharm": {
     "name": "#%%\n",
     "is_executing": false
    }
   },
   "outputs": [],
   "source": [
    "# Standardize values\n",
    "\n",
    "import locale\n",
    "import datetime\n",
    "\n",
    "locale.setlocale( locale.LC_ALL, 'en_US.UTF-8' )\n",
    "\n",
    "def atoi(s):\n",
    "    if s is None or len(s) == 0:\n",
    "        return 0\n",
    "    else:\n",
    "        return locale.atoi(s)\n",
    "    \n",
    "def year_for_ushhs(date):\n",
    "    return datetime.datetime.strptime(date, '%m/%d/%Y').year\n",
    "\n",
    "def year_for_iib(year):\n",
    "    return int(year)\n",
    "    \n",
    "std_funcs = {\n",
    "    'iib': {\n",
    "        'records': atoi,\n",
    "        'year': year_for_iib\n",
    "    },\n",
    "    'ushhs': {\n",
    "        'records': atoi,\n",
    "        'year': year_for_ushhs\n",
    "    }\n",
    "}\n",
    "\n",
    "std_data = []\n",
    "for key in std_cols:\n",
    "    std_rows = []\n",
    "    for row in std_cols[key]:\n",
    "        std_row = {}\n",
    "        for col in row:\n",
    "            if col in std_funcs[key]:\n",
    "                std_row[col] = std_funcs[key][col](row[col])\n",
    "            else:\n",
    "                std_row[col] = row[col]\n",
    "                \n",
    "        std_rows.append(std_row)\n",
    "        \n",
    "    std_data.extend(std_rows)\n",
    "    "
   ]
  },
  {
   "cell_type": "code",
   "execution_count": 177,
   "outputs": [
    {
     "name": "stdout",
     "text": [
      "{'Hacking/IT Incident': 559, 'Theft': 49, 'Unauthorized Access/Disclosure': 160, 'Loss': 15, 'Improper Disposal': 10, 'inside job': 20, 'lost device': 47, 'oops!': 19, 'poor security': 42, 'telecoms': 1}\n",
      "{'Hacking/IT Incident': 8687311688, 'Theft': 311751, 'Unauthorized Access/Disclosure': 7489809, 'Loss': 73984, 'Improper Disposal': 342876, 'inside job': 363741405, 'lost device': 215875202, 'oops!': 2442144628, 'poor security': 4775938648, 'telecoms': 170000}\n"
     ],
     "output_type": "stream"
    }
   ],
   "source": [
    "# Aggregrate by method and create a pie chart\n",
    "\n",
    "method_count = {}\n",
    "row_count = {}\n",
    "\n",
    "def standardize_method_name(method_name):\n",
    "    if method_name == \"hacked\":\n",
    "        return \"Hacking/IT Incident\"\n",
    "    return method_name\n",
    "    \n",
    "for row in std_data:\n",
    "    if len(row['method']) > 0:\n",
    "        method = standardize_method_name(row['method'])\n",
    "        if method in method_count:\n",
    "            method_count[method] += 1\n",
    "            row_count[method] += row['records']\n",
    "        else:\n",
    "            method_count[method] =1\n",
    "            row_count[method] = row['records']\n",
    "        \n",
    "print(method_count)\n",
    "print(row_count)"
   ],
   "metadata": {
    "collapsed": false,
    "pycharm": {
     "name": "#%%\n",
     "is_executing": false
    }
   }
  },
  {
   "cell_type": "code",
   "execution_count": 178,
   "outputs": [
    {
     "data": {
      "text/plain": "<Figure size 432x288 with 1 Axes>",
      "image/png": "[encoded data removed]"
     },
     "metadata": {},
     "output_type": "display_data"
    }
   ],
   "source": [
    "import matplotlib.pyplot as plt\n",
    "fig1, ax1 = plt.subplots()\n",
    "\n",
    "ax1.pie([method_count[k] for k in sorted(method_count.keys())], \n",
    "        labels=sorted(method_count.keys()))\n",
    "ax1.axis('equal')\n",
    "\n",
    "plt.show()"
   ],
   "metadata": {
    "collapsed": false,
    "pycharm": {
     "name": "#%%\n",
     "is_executing": false
    }
   }
  },
  {
   "cell_type": "code",
   "execution_count": 179,
   "outputs": [
    {
     "data": {
      "text/plain": "<Figure size 432x288 with 1 Axes>",
      "image/png": "[encoded data removed]"
     },
     "metadata": {},
     "output_type": "display_data"
    }
   ],
   "source": [
    "import matplotlib.pyplot as plt\n",
    "fig1, ax1 = plt.subplots()\n",
    "\n",
    "ax1.pie([row_count[k] for k in sorted(method_count.keys())], \n",
    "        labels=sorted(method_count.keys()))\n",
    "ax1.axis('equal')\n",
    "\n",
    "plt.show()\n"
   ],
   "metadata": {
    "collapsed": false,
    "pycharm": {
     "name": "#%%\n",
     "is_executing": false
    }
   }
  }
 ],
 "metadata": {
  "kernelspec": {
   "display_name": "Python 3",
   "language": "python",
   "name": "python3"
  },
  "language_info": {
   "codemirror_mode": {
    "name": "ipython",
    "version": 3
   },
   "file_extension": ".py",
   "mimetype": "text/x-python",
   "name": "python",
   "nbconvert_exporter": "python",
   "pygments_lexer": "ipython3",
   "version": "3.7.5"
  },
  "pycharm": {
   "stem_cell": {
    "cell_type": "raw",
    "source": [],
    "metadata": {
     "collapsed": false
    }
   }
  }
 },
 "nbformat": 4,
 "nbformat_minor": 2
}